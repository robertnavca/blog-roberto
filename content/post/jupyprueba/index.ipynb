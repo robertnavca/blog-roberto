{
 "cells": [
  {
   "cell_type": "markdown",
   "id": "exterior-teaching",
   "metadata": {},
   "source": [
    "--- \n",
    "title: Predicción del precio de venta de la propiedad \n",
    "summary: Trabajaremos con la base de datos de Kaggle \"House Prices\" \n",
    "date: 2021-02-01 authors: [\"admin\"] tags: [\"Regresión\"] \n",
    "featured: true \n",
    "categories: [\"Proyectos\"]\n",
    "\n",
    "---"
   ]
  },
  {
   "cell_type": "code",
   "execution_count": null,
   "id": "comfortable-twist",
   "metadata": {},
   "outputs": [],
   "source": [
    "import pandas as pd"
   ]
  }
 ],
 "metadata": {
  "kernelspec": {
   "display_name": "Python 3",
   "language": "python",
   "name": "python3"
  },
  "language_info": {
   "codemirror_mode": {
    "name": "ipython",
    "version": 3
   },
   "file_extension": ".py",
   "mimetype": "text/x-python",
   "name": "python",
   "nbconvert_exporter": "python",
   "pygments_lexer": "ipython3",
   "version": "3.8.2"
  }
 },
 "nbformat": 4,
 "nbformat_minor": 5
}
