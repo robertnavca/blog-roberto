{
 "cells": [
  {
   "cell_type": "markdown",
   "metadata": {},
   "source": [
    "---\n",
    "title: Predicción del precio de venta de la propiedad\n",
    "summary: Trabajaremos con la base de datos de Kaggle \"House Prices\"\n",
    "date: 2021-02-01\n",
    "authors: [\"admin\"]\n",
    "tags: [\"Regresión\"]\n",
    "featured: true\n",
    "categories: [\"Proyectos\"]\n",
    "\n",
    "---"
   ]
  },
  {
   "cell_type": "markdown",
   "metadata": {},
   "source": [
    "# Predicción del precio de venta de la propiedad\n",
    "\n",
    "## 1. Introducción\n",
    "\n",
    "### 1.1 Presentación del objetivo\n",
    "\n",
    "En este proyecto vamos a trabajar la predicción de una variable cuantitativa mediante un conjunto de variables tanto cuantitativas como cualitativas. El objetivo en cuentión se trata de predecir el precio de venta de un bien inmueble, y para ello trabajaremos con la famosa base de datos de _kaggle_ _\"House Prices - Advanced Regression Techniques\"_, que contiene información sobre 1460 propiedades inmobiliarias (casas) vendidas en Ames, Iowa (EEUU). En concreto, tenemos a nuestra disposición 79 variables explicativas que nos describen muchas de las características de las viviendas, más allá de las típicas como el tamaño o la zona residencial. \n",
    "\n",
    "\n",
    "### 1.2 Habilidades que trabajaremos\n",
    "\n",
    "__Ingeniería de atributos__: Una de las grandes ventajas de esta base de datos es que nos va a permitir trabajar de manera intensa la limpieza, transformación y selección de atributos, pues contamos con muchos de los casos que se nos pueden prensentar en un problema de este tipo, como son el trabajar con valores erroneos u omitidos, el manejo de variables altamente correladas o la necesidad de tener que seleccionar variables o reducir la dimensionalidad de nuestra base de datos.\n",
    "\n",
    "__Visualización de datos__: Para este proyecto vamos a trabajar la visualización de datos con la librería _Seaborn_, que como veremos nos permite realizar gráficos de una manera muy sencilla y con un acabado realmente profesional.\n",
    "\n",
    "__Tecnicas de regresión__: Finalmente trabajaremos distintas técnicas de regresión para realizar la predicción sobre los datos de test.\n",
    "\n",
    "\n",
    "### 1.3 Flujo de trabajo \n",
    "\n",
    "Vamos a llevar a cabo nuestro proyecto siguiendo el siguiente _workflow_:\n",
    "\n",
    "1. \n",
    "\n"
   ]
  },
  {
   "cell_type": "markdown",
   "metadata": {},
   "source": [
    "---"
   ]
  },
  {
   "cell_type": "markdown",
   "metadata": {},
   "source": [
    "## 2. Preprocesamiento de datos y análisis exploratorio \n",
    "\n",
    "### 2.1 Carga de las librerías necesarias\n",
    "\n",
    "Para este proyecto en concreto cargaremos las siguiente librerías:\n",
    "- Pandas para trabajar con dataframes.\n",
    "- Seaborn para la realización de gráficos.\n",
    "- Scikit-learn para modelizar."
   ]
  },
  {
   "cell_type": "code",
   "execution_count": 1,
   "metadata": {},
   "outputs": [],
   "source": [
    "import pandas as pd\n",
    "# import seaborn as sns"
   ]
  },
  {
   "cell_type": "markdown",
   "metadata": {},
   "source": [
    "### 2.2 Carga de los datos y primera aproximación\n",
    "\n",
    "Lo primero que haremos será cargar los datos en un _dataframe_ de _Pandas_. Sabemos que los datos incluyen una columna llamada \"Id\" que nos servirá para indexar nuestros datos, así que en la carga le diremos a _Pandas_ que carge esa columna como índice con el atributo _index_col_."
   ]
  },
  {
   "cell_type": "code",
   "execution_count": 34,
   "metadata": {},
   "outputs": [
    {
     "name": "stdout",
     "output_type": "stream",
     "text": [
      "|   Id |   MSSubClass | MSZoning   |   LotFrontage |   LotArea | Street   |   Alley | LotShape   | LandContour   | Utilities   | LotConfig   | LandSlope   | Neighborhood   | Condition1   | Condition2   | BldgType   | HouseStyle   |   OverallQual |   OverallCond |   YearBuilt |   YearRemodAdd | RoofStyle   | RoofMatl   | Exterior1st   | Exterior2nd   | MasVnrType   |   MasVnrArea | ExterQual   | ExterCond   | Foundation   | BsmtQual   | BsmtCond   | BsmtExposure   | BsmtFinType1   |   BsmtFinSF1 | BsmtFinType2   |   BsmtFinSF2 |   BsmtUnfSF |   TotalBsmtSF | Heating   | HeatingQC   | CentralAir   | Electrical   |   1stFlrSF |   2ndFlrSF |   LowQualFinSF |   GrLivArea |   BsmtFullBath |   BsmtHalfBath |   FullBath |   HalfBath |   BedroomAbvGr |   KitchenAbvGr | KitchenQual   |   TotRmsAbvGrd | Functional   |   Fireplaces | FireplaceQu   | GarageType   |   GarageYrBlt | GarageFinish   |   GarageCars |   GarageArea | GarageQual   | GarageCond   | PavedDrive   |   WoodDeckSF |   OpenPorchSF |   EnclosedPorch |   3SsnPorch |   ScreenPorch |   PoolArea |   PoolQC |   Fence |   MiscFeature |   MiscVal |   MoSold |   YrSold | SaleType   | SaleCondition   |   SalePrice |\n",
      "|-----:|-------------:|:-----------|--------------:|----------:|:---------|--------:|:-----------|:--------------|:------------|:------------|:------------|:---------------|:-------------|:-------------|:-----------|:-------------|--------------:|--------------:|------------:|---------------:|:------------|:-----------|:--------------|:--------------|:-------------|-------------:|:------------|:------------|:-------------|:-----------|:-----------|:---------------|:---------------|-------------:|:---------------|-------------:|------------:|--------------:|:----------|:------------|:-------------|:-------------|-----------:|-----------:|---------------:|------------:|---------------:|---------------:|-----------:|-----------:|---------------:|---------------:|:--------------|---------------:|:-------------|-------------:|:--------------|:-------------|--------------:|:---------------|-------------:|-------------:|:-------------|:-------------|:-------------|-------------:|--------------:|----------------:|------------:|--------------:|-----------:|---------:|--------:|--------------:|----------:|---------:|---------:|:-----------|:----------------|------------:|\n",
      "|    1 |           60 | RL         |            65 |      8450 | Pave     |     nan | Reg        | Lvl           | AllPub      | Inside      | Gtl         | CollgCr        | Norm         | Norm         | 1Fam       | 2Story       |             7 |             5 |        2003 |           2003 | Gable       | CompShg    | VinylSd       | VinylSd       | BrkFace      |          196 | Gd          | TA          | PConc        | Gd         | TA         | No             | GLQ            |          706 | Unf            |            0 |         150 |           856 | GasA      | Ex          | Y            | SBrkr        |        856 |        854 |              0 |        1710 |              1 |              0 |          2 |          1 |              3 |              1 | Gd            |              8 | Typ          |            0 | nan           | Attchd       |          2003 | RFn            |            2 |          548 | TA           | TA           | Y            |            0 |            61 |               0 |           0 |             0 |          0 |      nan |     nan |           nan |         0 |        2 |     2008 | WD         | Normal          |      208500 |\n",
      "|    2 |           20 | RL         |            80 |      9600 | Pave     |     nan | Reg        | Lvl           | AllPub      | FR2         | Gtl         | Veenker        | Feedr        | Norm         | 1Fam       | 1Story       |             6 |             8 |        1976 |           1976 | Gable       | CompShg    | MetalSd       | MetalSd       | None         |            0 | TA          | TA          | CBlock       | Gd         | TA         | Gd             | ALQ            |          978 | Unf            |            0 |         284 |          1262 | GasA      | Ex          | Y            | SBrkr        |       1262 |          0 |              0 |        1262 |              0 |              1 |          2 |          0 |              3 |              1 | TA            |              6 | Typ          |            1 | TA            | Attchd       |          1976 | RFn            |            2 |          460 | TA           | TA           | Y            |          298 |             0 |               0 |           0 |             0 |          0 |      nan |     nan |           nan |         0 |        5 |     2007 | WD         | Normal          |      181500 |\n",
      "|    3 |           60 | RL         |            68 |     11250 | Pave     |     nan | IR1        | Lvl           | AllPub      | Inside      | Gtl         | CollgCr        | Norm         | Norm         | 1Fam       | 2Story       |             7 |             5 |        2001 |           2002 | Gable       | CompShg    | VinylSd       | VinylSd       | BrkFace      |          162 | Gd          | TA          | PConc        | Gd         | TA         | Mn             | GLQ            |          486 | Unf            |            0 |         434 |           920 | GasA      | Ex          | Y            | SBrkr        |        920 |        866 |              0 |        1786 |              1 |              0 |          2 |          1 |              3 |              1 | Gd            |              6 | Typ          |            1 | TA            | Attchd       |          2001 | RFn            |            2 |          608 | TA           | TA           | Y            |            0 |            42 |               0 |           0 |             0 |          0 |      nan |     nan |           nan |         0 |        9 |     2008 | WD         | Normal          |      223500 |\n",
      "|    4 |           70 | RL         |            60 |      9550 | Pave     |     nan | IR1        | Lvl           | AllPub      | Corner      | Gtl         | Crawfor        | Norm         | Norm         | 1Fam       | 2Story       |             7 |             5 |        1915 |           1970 | Gable       | CompShg    | Wd Sdng       | Wd Shng       | None         |            0 | TA          | TA          | BrkTil       | TA         | Gd         | No             | ALQ            |          216 | Unf            |            0 |         540 |           756 | GasA      | Gd          | Y            | SBrkr        |        961 |        756 |              0 |        1717 |              1 |              0 |          1 |          0 |              3 |              1 | Gd            |              7 | Typ          |            1 | Gd            | Detchd       |          1998 | Unf            |            3 |          642 | TA           | TA           | Y            |            0 |            35 |             272 |           0 |             0 |          0 |      nan |     nan |           nan |         0 |        2 |     2006 | WD         | Abnorml         |      140000 |\n",
      "|    5 |           60 | RL         |            84 |     14260 | Pave     |     nan | IR1        | Lvl           | AllPub      | FR2         | Gtl         | NoRidge        | Norm         | Norm         | 1Fam       | 2Story       |             8 |             5 |        2000 |           2000 | Gable       | CompShg    | VinylSd       | VinylSd       | BrkFace      |          350 | Gd          | TA          | PConc        | Gd         | TA         | Av             | GLQ            |          655 | Unf            |            0 |         490 |          1145 | GasA      | Ex          | Y            | SBrkr        |       1145 |       1053 |              0 |        2198 |              1 |              0 |          2 |          1 |              4 |              1 | Gd            |              9 | Typ          |            1 | TA            | Attchd       |          2000 | RFn            |            3 |          836 | TA           | TA           | Y            |          192 |            84 |               0 |           0 |             0 |          0 |      nan |     nan |           nan |         0 |       12 |     2008 | WD         | Normal          |      250000 |\n"
     ]
    }
   ],
   "source": [
    "data = pd.read_csv('data/train.csv', index_col='Id')\n",
    "print(data.head().to_markdown())"
   ]
  },
  {
   "cell_type": "code",
   "execution_count": 1,
   "metadata": {},
   "outputs": [
    {
     "data": {
      "text/html": [
       "<style type='text/css'>\n",
       ".datatable table.frame { margin-bottom: 0; }\n",
       ".datatable table.frame thead { border-bottom: none; }\n",
       ".datatable table.frame tr.coltypes td {  color: #FFFFFF;  line-height: 6px;  padding: 0 0.5em;}\n",
       ".datatable .bool    { background: #DDDD99; }\n",
       ".datatable .object  { background: #565656; }\n",
       ".datatable .int     { background: #5D9E5D; }\n",
       ".datatable .float   { background: #4040CC; }\n",
       ".datatable .str     { background: #CC4040; }\n",
       ".datatable .row_index {  background: var(--jp-border-color3);  border-right: 1px solid var(--jp-border-color0);  color: var(--jp-ui-font-color3);  font-size: 9px;}\n",
       ".datatable .frame tr.coltypes .row_index {  background: var(--jp-border-color0);}\n",
       ".datatable th:nth-child(2) { padding-left: 12px; }\n",
       ".datatable .hellipsis {  color: var(--jp-cell-editor-border-color);}\n",
       ".datatable .vellipsis {  background: var(--jp-layout-color0);  color: var(--jp-cell-editor-border-color);}\n",
       ".datatable .na {  color: var(--jp-cell-editor-border-color);  font-size: 80%;}\n",
       ".datatable .footer { font-size: 9px; }\n",
       ".datatable .frame_dimensions {  background: var(--jp-border-color3);  border-top: 1px solid var(--jp-border-color0);  color: var(--jp-ui-font-color3);  display: inline-block;  opacity: 0.6;  padding: 1px 10px 1px 5px;}\n",
       "</style>\n"
      ],
      "text/plain": [
       "<IPython.core.display.HTML object>"
      ]
     },
     "metadata": {},
     "output_type": "display_data"
    }
   ],
   "source": [
    "import datatable as dt"
   ]
  },
  {
   "cell_type": "code",
   "execution_count": 3,
   "metadata": {},
   "outputs": [],
   "source": [
    "dt_data = dt.fread('data/train.csv')"
   ]
  },
  {
   "cell_type": "code",
   "execution_count": 4,
   "metadata": {},
   "outputs": [
    {
     "data": {
      "text/html": [
       "<div class='datatable'>\n",
       "  <table class='frame'>\n",
       "  <thead>\n",
       "    <tr class='colnames'><td class='row_index'></td><th>Id</th><th>MSSubClass</th><th>MSZoning</th><th>LotFrontage</th><th>LotArea</th><th>Street</th><th>Alley</th><th>LotShape</th><th>LandContour</th><th>Utilities</th><th class='vellipsis'>&hellip;</th><th>MoSold</th><th>YrSold</th><th>SaleType</th><th>SaleCondition</th><th>SalePrice</th></tr>\n",
       "    <tr class='coltypes'><td class='row_index'></td><td class='int' title='int32'>&#x25AA;&#x25AA;&#x25AA;&#x25AA;</td><td class='int' title='int32'>&#x25AA;&#x25AA;&#x25AA;&#x25AA;</td><td class='str' title='str32'>&#x25AA;&#x25AA;&#x25AA;&#x25AA;</td><td class='int' title='int32'>&#x25AA;&#x25AA;&#x25AA;&#x25AA;</td><td class='int' title='int32'>&#x25AA;&#x25AA;&#x25AA;&#x25AA;</td><td class='str' title='str32'>&#x25AA;&#x25AA;&#x25AA;&#x25AA;</td><td class='str' title='str32'>&#x25AA;&#x25AA;&#x25AA;&#x25AA;</td><td class='str' title='str32'>&#x25AA;&#x25AA;&#x25AA;&#x25AA;</td><td class='str' title='str32'>&#x25AA;&#x25AA;&#x25AA;&#x25AA;</td><td class='str' title='str32'>&#x25AA;&#x25AA;&#x25AA;&#x25AA;</td><td></td><td class='int' title='int32'>&#x25AA;&#x25AA;&#x25AA;&#x25AA;</td><td class='int' title='int32'>&#x25AA;&#x25AA;&#x25AA;&#x25AA;</td><td class='str' title='str32'>&#x25AA;&#x25AA;&#x25AA;&#x25AA;</td><td class='str' title='str32'>&#x25AA;&#x25AA;&#x25AA;&#x25AA;</td><td class='int' title='int32'>&#x25AA;&#x25AA;&#x25AA;&#x25AA;</td></tr>\n",
       "  </thead>\n",
       "  <tbody>\n",
       "    <tr><td class='row_index'>0</td><td>1</td><td>60</td><td>RL</td><td>65</td><td>8450</td><td>Pave</td><td><span class=na>NA</span></td><td>Reg</td><td>Lvl</td><td>AllPub</td><td class=vellipsis>&hellip;</td><td>2</td><td>2008</td><td>WD</td><td>Normal</td><td>208500</td></tr>\n",
       "    <tr><td class='row_index'>1</td><td>2</td><td>20</td><td>RL</td><td>80</td><td>9600</td><td>Pave</td><td><span class=na>NA</span></td><td>Reg</td><td>Lvl</td><td>AllPub</td><td class=vellipsis>&hellip;</td><td>5</td><td>2007</td><td>WD</td><td>Normal</td><td>181500</td></tr>\n",
       "    <tr><td class='row_index'>2</td><td>3</td><td>60</td><td>RL</td><td>68</td><td>11250</td><td>Pave</td><td><span class=na>NA</span></td><td>IR1</td><td>Lvl</td><td>AllPub</td><td class=vellipsis>&hellip;</td><td>9</td><td>2008</td><td>WD</td><td>Normal</td><td>223500</td></tr>\n",
       "    <tr><td class='row_index'>3</td><td>4</td><td>70</td><td>RL</td><td>60</td><td>9550</td><td>Pave</td><td><span class=na>NA</span></td><td>IR1</td><td>Lvl</td><td>AllPub</td><td class=vellipsis>&hellip;</td><td>2</td><td>2006</td><td>WD</td><td>Abnorml</td><td>140000</td></tr>\n",
       "    <tr><td class='row_index'>4</td><td>5</td><td>60</td><td>RL</td><td>84</td><td>14260</td><td>Pave</td><td><span class=na>NA</span></td><td>IR1</td><td>Lvl</td><td>AllPub</td><td class=vellipsis>&hellip;</td><td>12</td><td>2008</td><td>WD</td><td>Normal</td><td>250000</td></tr>\n",
       "    <tr><td class='row_index'>5</td><td>6</td><td>50</td><td>RL</td><td>85</td><td>14115</td><td>Pave</td><td><span class=na>NA</span></td><td>IR1</td><td>Lvl</td><td>AllPub</td><td class=vellipsis>&hellip;</td><td>10</td><td>2009</td><td>WD</td><td>Normal</td><td>143000</td></tr>\n",
       "    <tr><td class='row_index'>6</td><td>7</td><td>20</td><td>RL</td><td>75</td><td>10084</td><td>Pave</td><td><span class=na>NA</span></td><td>Reg</td><td>Lvl</td><td>AllPub</td><td class=vellipsis>&hellip;</td><td>8</td><td>2007</td><td>WD</td><td>Normal</td><td>307000</td></tr>\n",
       "    <tr><td class='row_index'>7</td><td>8</td><td>60</td><td>RL</td><td><span class=na>NA</span></td><td>10382</td><td>Pave</td><td><span class=na>NA</span></td><td>IR1</td><td>Lvl</td><td>AllPub</td><td class=vellipsis>&hellip;</td><td>11</td><td>2009</td><td>WD</td><td>Normal</td><td>200000</td></tr>\n",
       "    <tr><td class='row_index'>8</td><td>9</td><td>50</td><td>RM</td><td>51</td><td>6120</td><td>Pave</td><td><span class=na>NA</span></td><td>Reg</td><td>Lvl</td><td>AllPub</td><td class=vellipsis>&hellip;</td><td>4</td><td>2008</td><td>WD</td><td>Abnorml</td><td>129900</td></tr>\n",
       "    <tr><td class='row_index'>9</td><td>10</td><td>190</td><td>RL</td><td>50</td><td>7420</td><td>Pave</td><td><span class=na>NA</span></td><td>Reg</td><td>Lvl</td><td>AllPub</td><td class=vellipsis>&hellip;</td><td>1</td><td>2008</td><td>WD</td><td>Normal</td><td>118000</td></tr>\n",
       "  </tbody>\n",
       "  </table>\n",
       "  <div class='footer'>\n",
       "    <div class='frame_dimensions'>10 rows &times; 81 columns</div>\n",
       "  </div>\n",
       "</div>\n"
      ],
      "text/plain": [
       "<Frame#7fc1214ff1e0 10x81>"
      ]
     },
     "execution_count": 4,
     "metadata": {},
     "output_type": "execute_result"
    }
   ],
   "source": [
    "dt_data.head()"
   ]
  },
  {
   "cell_type": "code",
   "execution_count": 31,
   "metadata": {},
   "outputs": [
    {
     "data": {
      "application/vnd.dataresource+json": {
       "data": [
        {
         "1stFlrSF": 856,
         "2ndFlrSF": 854,
         "3SsnPorch": 0,
         "Alley": null,
         "BedroomAbvGr": 3,
         "BldgType": "1Fam",
         "BsmtCond": "TA",
         "BsmtExposure": "No",
         "BsmtFinSF1": 706,
         "BsmtFinSF2": 0,
         "BsmtFinType1": "GLQ",
         "BsmtFinType2": "Unf",
         "BsmtFullBath": 1,
         "BsmtHalfBath": 0,
         "BsmtQual": "Gd",
         "BsmtUnfSF": 150,
         "CentralAir": "Y",
         "Condition1": "Norm",
         "Condition2": "Norm",
         "Electrical": "SBrkr",
         "EnclosedPorch": 0,
         "ExterCond": "TA",
         "ExterQual": "Gd",
         "Exterior1st": "VinylSd",
         "Exterior2nd": "VinylSd",
         "Fence": null,
         "FireplaceQu": null,
         "Fireplaces": 0,
         "Foundation": "PConc",
         "FullBath": 2,
         "Functional": "Typ",
         "GarageArea": 548,
         "GarageCars": 2,
         "GarageCond": "TA",
         "GarageFinish": "RFn",
         "GarageQual": "TA",
         "GarageType": "Attchd",
         "GarageYrBlt": 2003,
         "GrLivArea": 1710,
         "HalfBath": 1,
         "Heating": "GasA",
         "HeatingQC": "Ex",
         "HouseStyle": "2Story",
         "Id": 1,
         "KitchenAbvGr": 1,
         "KitchenQual": "Gd",
         "LandContour": "Lvl",
         "LandSlope": "Gtl",
         "LotArea": 8450,
         "LotConfig": "Inside",
         "LotFrontage": 65,
         "LotShape": "Reg",
         "LowQualFinSF": 0,
         "MSSubClass": 60,
         "MSZoning": "RL",
         "MasVnrArea": 196,
         "MasVnrType": "BrkFace",
         "MiscFeature": null,
         "MiscVal": 0,
         "MoSold": 2,
         "Neighborhood": "CollgCr",
         "OpenPorchSF": 61,
         "OverallCond": 5,
         "OverallQual": 7,
         "PavedDrive": "Y",
         "PoolArea": 0,
         "PoolQC": null,
         "RoofMatl": "CompShg",
         "RoofStyle": "Gable",
         "SaleCondition": "Normal",
         "SalePrice": 208500,
         "SaleType": "WD",
         "ScreenPorch": 0,
         "Street": "Pave",
         "TotRmsAbvGrd": 8,
         "TotalBsmtSF": 856,
         "Utilities": "AllPub",
         "WoodDeckSF": 0,
         "YearBuilt": 2003,
         "YearRemodAdd": 2003,
         "YrSold": 2008
        },
        {
         "1stFlrSF": 1262,
         "2ndFlrSF": 0,
         "3SsnPorch": 0,
         "Alley": null,
         "BedroomAbvGr": 3,
         "BldgType": "1Fam",
         "BsmtCond": "TA",
         "BsmtExposure": "Gd",
         "BsmtFinSF1": 978,
         "BsmtFinSF2": 0,
         "BsmtFinType1": "ALQ",
         "BsmtFinType2": "Unf",
         "BsmtFullBath": 0,
         "BsmtHalfBath": 1,
         "BsmtQual": "Gd",
         "BsmtUnfSF": 284,
         "CentralAir": "Y",
         "Condition1": "Feedr",
         "Condition2": "Norm",
         "Electrical": "SBrkr",
         "EnclosedPorch": 0,
         "ExterCond": "TA",
         "ExterQual": "TA",
         "Exterior1st": "MetalSd",
         "Exterior2nd": "MetalSd",
         "Fence": null,
         "FireplaceQu": "TA",
         "Fireplaces": 1,
         "Foundation": "CBlock",
         "FullBath": 2,
         "Functional": "Typ",
         "GarageArea": 460,
         "GarageCars": 2,
         "GarageCond": "TA",
         "GarageFinish": "RFn",
         "GarageQual": "TA",
         "GarageType": "Attchd",
         "GarageYrBlt": 1976,
         "GrLivArea": 1262,
         "HalfBath": 0,
         "Heating": "GasA",
         "HeatingQC": "Ex",
         "HouseStyle": "1Story",
         "Id": 2,
         "KitchenAbvGr": 1,
         "KitchenQual": "TA",
         "LandContour": "Lvl",
         "LandSlope": "Gtl",
         "LotArea": 9600,
         "LotConfig": "FR2",
         "LotFrontage": 80,
         "LotShape": "Reg",
         "LowQualFinSF": 0,
         "MSSubClass": 20,
         "MSZoning": "RL",
         "MasVnrArea": 0,
         "MasVnrType": "None",
         "MiscFeature": null,
         "MiscVal": 0,
         "MoSold": 5,
         "Neighborhood": "Veenker",
         "OpenPorchSF": 0,
         "OverallCond": 8,
         "OverallQual": 6,
         "PavedDrive": "Y",
         "PoolArea": 0,
         "PoolQC": null,
         "RoofMatl": "CompShg",
         "RoofStyle": "Gable",
         "SaleCondition": "Normal",
         "SalePrice": 181500,
         "SaleType": "WD",
         "ScreenPorch": 0,
         "Street": "Pave",
         "TotRmsAbvGrd": 6,
         "TotalBsmtSF": 1262,
         "Utilities": "AllPub",
         "WoodDeckSF": 298,
         "YearBuilt": 1976,
         "YearRemodAdd": 1976,
         "YrSold": 2007
        },
        {
         "1stFlrSF": 920,
         "2ndFlrSF": 866,
         "3SsnPorch": 0,
         "Alley": null,
         "BedroomAbvGr": 3,
         "BldgType": "1Fam",
         "BsmtCond": "TA",
         "BsmtExposure": "Mn",
         "BsmtFinSF1": 486,
         "BsmtFinSF2": 0,
         "BsmtFinType1": "GLQ",
         "BsmtFinType2": "Unf",
         "BsmtFullBath": 1,
         "BsmtHalfBath": 0,
         "BsmtQual": "Gd",
         "BsmtUnfSF": 434,
         "CentralAir": "Y",
         "Condition1": "Norm",
         "Condition2": "Norm",
         "Electrical": "SBrkr",
         "EnclosedPorch": 0,
         "ExterCond": "TA",
         "ExterQual": "Gd",
         "Exterior1st": "VinylSd",
         "Exterior2nd": "VinylSd",
         "Fence": null,
         "FireplaceQu": "TA",
         "Fireplaces": 1,
         "Foundation": "PConc",
         "FullBath": 2,
         "Functional": "Typ",
         "GarageArea": 608,
         "GarageCars": 2,
         "GarageCond": "TA",
         "GarageFinish": "RFn",
         "GarageQual": "TA",
         "GarageType": "Attchd",
         "GarageYrBlt": 2001,
         "GrLivArea": 1786,
         "HalfBath": 1,
         "Heating": "GasA",
         "HeatingQC": "Ex",
         "HouseStyle": "2Story",
         "Id": 3,
         "KitchenAbvGr": 1,
         "KitchenQual": "Gd",
         "LandContour": "Lvl",
         "LandSlope": "Gtl",
         "LotArea": 11250,
         "LotConfig": "Inside",
         "LotFrontage": 68,
         "LotShape": "IR1",
         "LowQualFinSF": 0,
         "MSSubClass": 60,
         "MSZoning": "RL",
         "MasVnrArea": 162,
         "MasVnrType": "BrkFace",
         "MiscFeature": null,
         "MiscVal": 0,
         "MoSold": 9,
         "Neighborhood": "CollgCr",
         "OpenPorchSF": 42,
         "OverallCond": 5,
         "OverallQual": 7,
         "PavedDrive": "Y",
         "PoolArea": 0,
         "PoolQC": null,
         "RoofMatl": "CompShg",
         "RoofStyle": "Gable",
         "SaleCondition": "Normal",
         "SalePrice": 223500,
         "SaleType": "WD",
         "ScreenPorch": 0,
         "Street": "Pave",
         "TotRmsAbvGrd": 6,
         "TotalBsmtSF": 920,
         "Utilities": "AllPub",
         "WoodDeckSF": 0,
         "YearBuilt": 2001,
         "YearRemodAdd": 2002,
         "YrSold": 2008
        },
        {
         "1stFlrSF": 961,
         "2ndFlrSF": 756,
         "3SsnPorch": 0,
         "Alley": null,
         "BedroomAbvGr": 3,
         "BldgType": "1Fam",
         "BsmtCond": "Gd",
         "BsmtExposure": "No",
         "BsmtFinSF1": 216,
         "BsmtFinSF2": 0,
         "BsmtFinType1": "ALQ",
         "BsmtFinType2": "Unf",
         "BsmtFullBath": 1,
         "BsmtHalfBath": 0,
         "BsmtQual": "TA",
         "BsmtUnfSF": 540,
         "CentralAir": "Y",
         "Condition1": "Norm",
         "Condition2": "Norm",
         "Electrical": "SBrkr",
         "EnclosedPorch": 272,
         "ExterCond": "TA",
         "ExterQual": "TA",
         "Exterior1st": "Wd Sdng",
         "Exterior2nd": "Wd Shng",
         "Fence": null,
         "FireplaceQu": "Gd",
         "Fireplaces": 1,
         "Foundation": "BrkTil",
         "FullBath": 1,
         "Functional": "Typ",
         "GarageArea": 642,
         "GarageCars": 3,
         "GarageCond": "TA",
         "GarageFinish": "Unf",
         "GarageQual": "TA",
         "GarageType": "Detchd",
         "GarageYrBlt": 1998,
         "GrLivArea": 1717,
         "HalfBath": 0,
         "Heating": "GasA",
         "HeatingQC": "Gd",
         "HouseStyle": "2Story",
         "Id": 4,
         "KitchenAbvGr": 1,
         "KitchenQual": "Gd",
         "LandContour": "Lvl",
         "LandSlope": "Gtl",
         "LotArea": 9550,
         "LotConfig": "Corner",
         "LotFrontage": 60,
         "LotShape": "IR1",
         "LowQualFinSF": 0,
         "MSSubClass": 70,
         "MSZoning": "RL",
         "MasVnrArea": 0,
         "MasVnrType": "None",
         "MiscFeature": null,
         "MiscVal": 0,
         "MoSold": 2,
         "Neighborhood": "Crawfor",
         "OpenPorchSF": 35,
         "OverallCond": 5,
         "OverallQual": 7,
         "PavedDrive": "Y",
         "PoolArea": 0,
         "PoolQC": null,
         "RoofMatl": "CompShg",
         "RoofStyle": "Gable",
         "SaleCondition": "Abnorml",
         "SalePrice": 140000,
         "SaleType": "WD",
         "ScreenPorch": 0,
         "Street": "Pave",
         "TotRmsAbvGrd": 7,
         "TotalBsmtSF": 756,
         "Utilities": "AllPub",
         "WoodDeckSF": 0,
         "YearBuilt": 1915,
         "YearRemodAdd": 1970,
         "YrSold": 2006
        },
        {
         "1stFlrSF": 1145,
         "2ndFlrSF": 1053,
         "3SsnPorch": 0,
         "Alley": null,
         "BedroomAbvGr": 4,
         "BldgType": "1Fam",
         "BsmtCond": "TA",
         "BsmtExposure": "Av",
         "BsmtFinSF1": 655,
         "BsmtFinSF2": 0,
         "BsmtFinType1": "GLQ",
         "BsmtFinType2": "Unf",
         "BsmtFullBath": 1,
         "BsmtHalfBath": 0,
         "BsmtQual": "Gd",
         "BsmtUnfSF": 490,
         "CentralAir": "Y",
         "Condition1": "Norm",
         "Condition2": "Norm",
         "Electrical": "SBrkr",
         "EnclosedPorch": 0,
         "ExterCond": "TA",
         "ExterQual": "Gd",
         "Exterior1st": "VinylSd",
         "Exterior2nd": "VinylSd",
         "Fence": null,
         "FireplaceQu": "TA",
         "Fireplaces": 1,
         "Foundation": "PConc",
         "FullBath": 2,
         "Functional": "Typ",
         "GarageArea": 836,
         "GarageCars": 3,
         "GarageCond": "TA",
         "GarageFinish": "RFn",
         "GarageQual": "TA",
         "GarageType": "Attchd",
         "GarageYrBlt": 2000,
         "GrLivArea": 2198,
         "HalfBath": 1,
         "Heating": "GasA",
         "HeatingQC": "Ex",
         "HouseStyle": "2Story",
         "Id": 5,
         "KitchenAbvGr": 1,
         "KitchenQual": "Gd",
         "LandContour": "Lvl",
         "LandSlope": "Gtl",
         "LotArea": 14260,
         "LotConfig": "FR2",
         "LotFrontage": 84,
         "LotShape": "IR1",
         "LowQualFinSF": 0,
         "MSSubClass": 60,
         "MSZoning": "RL",
         "MasVnrArea": 350,
         "MasVnrType": "BrkFace",
         "MiscFeature": null,
         "MiscVal": 0,
         "MoSold": 12,
         "Neighborhood": "NoRidge",
         "OpenPorchSF": 84,
         "OverallCond": 5,
         "OverallQual": 8,
         "PavedDrive": "Y",
         "PoolArea": 0,
         "PoolQC": null,
         "RoofMatl": "CompShg",
         "RoofStyle": "Gable",
         "SaleCondition": "Normal",
         "SalePrice": 250000,
         "SaleType": "WD",
         "ScreenPorch": 0,
         "Street": "Pave",
         "TotRmsAbvGrd": 9,
         "TotalBsmtSF": 1145,
         "Utilities": "AllPub",
         "WoodDeckSF": 192,
         "YearBuilt": 2000,
         "YearRemodAdd": 2000,
         "YrSold": 2008
        }
       ],
       "schema": {
        "fields": [
         {
          "name": "Id",
          "type": "integer"
         },
         {
          "name": "MSSubClass",
          "type": "integer"
         },
         {
          "name": "MSZoning",
          "type": "string"
         },
         {
          "name": "LotFrontage",
          "type": "number"
         },
         {
          "name": "LotArea",
          "type": "integer"
         },
         {
          "name": "Street",
          "type": "string"
         },
         {
          "name": "Alley",
          "type": "string"
         },
         {
          "name": "LotShape",
          "type": "string"
         },
         {
          "name": "LandContour",
          "type": "string"
         },
         {
          "name": "Utilities",
          "type": "string"
         },
         {
          "name": "LotConfig",
          "type": "string"
         },
         {
          "name": "LandSlope",
          "type": "string"
         },
         {
          "name": "Neighborhood",
          "type": "string"
         },
         {
          "name": "Condition1",
          "type": "string"
         },
         {
          "name": "Condition2",
          "type": "string"
         },
         {
          "name": "BldgType",
          "type": "string"
         },
         {
          "name": "HouseStyle",
          "type": "string"
         },
         {
          "name": "OverallQual",
          "type": "integer"
         },
         {
          "name": "OverallCond",
          "type": "integer"
         },
         {
          "name": "YearBuilt",
          "type": "integer"
         },
         {
          "name": "YearRemodAdd",
          "type": "integer"
         },
         {
          "name": "RoofStyle",
          "type": "string"
         },
         {
          "name": "RoofMatl",
          "type": "string"
         },
         {
          "name": "Exterior1st",
          "type": "string"
         },
         {
          "name": "Exterior2nd",
          "type": "string"
         },
         {
          "name": "MasVnrType",
          "type": "string"
         },
         {
          "name": "MasVnrArea",
          "type": "number"
         },
         {
          "name": "ExterQual",
          "type": "string"
         },
         {
          "name": "ExterCond",
          "type": "string"
         },
         {
          "name": "Foundation",
          "type": "string"
         },
         {
          "name": "BsmtQual",
          "type": "string"
         },
         {
          "name": "BsmtCond",
          "type": "string"
         },
         {
          "name": "BsmtExposure",
          "type": "string"
         },
         {
          "name": "BsmtFinType1",
          "type": "string"
         },
         {
          "name": "BsmtFinSF1",
          "type": "integer"
         },
         {
          "name": "BsmtFinType2",
          "type": "string"
         },
         {
          "name": "BsmtFinSF2",
          "type": "integer"
         },
         {
          "name": "BsmtUnfSF",
          "type": "integer"
         },
         {
          "name": "TotalBsmtSF",
          "type": "integer"
         },
         {
          "name": "Heating",
          "type": "string"
         },
         {
          "name": "HeatingQC",
          "type": "string"
         },
         {
          "name": "CentralAir",
          "type": "string"
         },
         {
          "name": "Electrical",
          "type": "string"
         },
         {
          "name": "1stFlrSF",
          "type": "integer"
         },
         {
          "name": "2ndFlrSF",
          "type": "integer"
         },
         {
          "name": "LowQualFinSF",
          "type": "integer"
         },
         {
          "name": "GrLivArea",
          "type": "integer"
         },
         {
          "name": "BsmtFullBath",
          "type": "integer"
         },
         {
          "name": "BsmtHalfBath",
          "type": "integer"
         },
         {
          "name": "FullBath",
          "type": "integer"
         },
         {
          "name": "HalfBath",
          "type": "integer"
         },
         {
          "name": "BedroomAbvGr",
          "type": "integer"
         },
         {
          "name": "KitchenAbvGr",
          "type": "integer"
         },
         {
          "name": "KitchenQual",
          "type": "string"
         },
         {
          "name": "TotRmsAbvGrd",
          "type": "integer"
         },
         {
          "name": "Functional",
          "type": "string"
         },
         {
          "name": "Fireplaces",
          "type": "integer"
         },
         {
          "name": "FireplaceQu",
          "type": "string"
         },
         {
          "name": "GarageType",
          "type": "string"
         },
         {
          "name": "GarageYrBlt",
          "type": "number"
         },
         {
          "name": "GarageFinish",
          "type": "string"
         },
         {
          "name": "GarageCars",
          "type": "integer"
         },
         {
          "name": "GarageArea",
          "type": "integer"
         },
         {
          "name": "GarageQual",
          "type": "string"
         },
         {
          "name": "GarageCond",
          "type": "string"
         },
         {
          "name": "PavedDrive",
          "type": "string"
         },
         {
          "name": "WoodDeckSF",
          "type": "integer"
         },
         {
          "name": "OpenPorchSF",
          "type": "integer"
         },
         {
          "name": "EnclosedPorch",
          "type": "integer"
         },
         {
          "name": "3SsnPorch",
          "type": "integer"
         },
         {
          "name": "ScreenPorch",
          "type": "integer"
         },
         {
          "name": "PoolArea",
          "type": "integer"
         },
         {
          "name": "PoolQC",
          "type": "string"
         },
         {
          "name": "Fence",
          "type": "string"
         },
         {
          "name": "MiscFeature",
          "type": "string"
         },
         {
          "name": "MiscVal",
          "type": "integer"
         },
         {
          "name": "MoSold",
          "type": "integer"
         },
         {
          "name": "YrSold",
          "type": "integer"
         },
         {
          "name": "SaleType",
          "type": "string"
         },
         {
          "name": "SaleCondition",
          "type": "string"
         },
         {
          "name": "SalePrice",
          "type": "integer"
         }
        ],
        "pandas_version": "0.20.0",
        "primaryKey": [
         "Id"
        ]
       }
      },
      "text/html": [
       "<div>\n",
       "<style scoped>\n",
       "    .dataframe tbody tr th:only-of-type {\n",
       "        vertical-align: middle;\n",
       "    }\n",
       "\n",
       "    .dataframe tbody tr th {\n",
       "        vertical-align: top;\n",
       "    }\n",
       "\n",
       "    .dataframe thead th {\n",
       "        text-align: right;\n",
       "    }\n",
       "</style>\n",
       "<table border=\"1\" class=\"dataframe\">\n",
       "  <thead>\n",
       "    <tr style=\"text-align: right;\">\n",
       "      <th></th>\n",
       "      <th>MSSubClass</th>\n",
       "      <th>MSZoning</th>\n",
       "      <th>LotFrontage</th>\n",
       "      <th>LotArea</th>\n",
       "      <th>Street</th>\n",
       "      <th>Alley</th>\n",
       "      <th>LotShape</th>\n",
       "      <th>LandContour</th>\n",
       "      <th>Utilities</th>\n",
       "      <th>LotConfig</th>\n",
       "      <th>...</th>\n",
       "      <th>PoolArea</th>\n",
       "      <th>PoolQC</th>\n",
       "      <th>Fence</th>\n",
       "      <th>MiscFeature</th>\n",
       "      <th>MiscVal</th>\n",
       "      <th>MoSold</th>\n",
       "      <th>YrSold</th>\n",
       "      <th>SaleType</th>\n",
       "      <th>SaleCondition</th>\n",
       "      <th>SalePrice</th>\n",
       "    </tr>\n",
       "    <tr>\n",
       "      <th>Id</th>\n",
       "      <th></th>\n",
       "      <th></th>\n",
       "      <th></th>\n",
       "      <th></th>\n",
       "      <th></th>\n",
       "      <th></th>\n",
       "      <th></th>\n",
       "      <th></th>\n",
       "      <th></th>\n",
       "      <th></th>\n",
       "      <th></th>\n",
       "      <th></th>\n",
       "      <th></th>\n",
       "      <th></th>\n",
       "      <th></th>\n",
       "      <th></th>\n",
       "      <th></th>\n",
       "      <th></th>\n",
       "      <th></th>\n",
       "      <th></th>\n",
       "      <th></th>\n",
       "    </tr>\n",
       "  </thead>\n",
       "  <tbody>\n",
       "    <tr>\n",
       "      <th>1</th>\n",
       "      <td>60</td>\n",
       "      <td>RL</td>\n",
       "      <td>65.0</td>\n",
       "      <td>8450</td>\n",
       "      <td>Pave</td>\n",
       "      <td>NaN</td>\n",
       "      <td>Reg</td>\n",
       "      <td>Lvl</td>\n",
       "      <td>AllPub</td>\n",
       "      <td>Inside</td>\n",
       "      <td>...</td>\n",
       "      <td>0</td>\n",
       "      <td>NaN</td>\n",
       "      <td>NaN</td>\n",
       "      <td>NaN</td>\n",
       "      <td>0</td>\n",
       "      <td>2</td>\n",
       "      <td>2008</td>\n",
       "      <td>WD</td>\n",
       "      <td>Normal</td>\n",
       "      <td>208500</td>\n",
       "    </tr>\n",
       "    <tr>\n",
       "      <th>2</th>\n",
       "      <td>20</td>\n",
       "      <td>RL</td>\n",
       "      <td>80.0</td>\n",
       "      <td>9600</td>\n",
       "      <td>Pave</td>\n",
       "      <td>NaN</td>\n",
       "      <td>Reg</td>\n",
       "      <td>Lvl</td>\n",
       "      <td>AllPub</td>\n",
       "      <td>FR2</td>\n",
       "      <td>...</td>\n",
       "      <td>0</td>\n",
       "      <td>NaN</td>\n",
       "      <td>NaN</td>\n",
       "      <td>NaN</td>\n",
       "      <td>0</td>\n",
       "      <td>5</td>\n",
       "      <td>2007</td>\n",
       "      <td>WD</td>\n",
       "      <td>Normal</td>\n",
       "      <td>181500</td>\n",
       "    </tr>\n",
       "    <tr>\n",
       "      <th>3</th>\n",
       "      <td>60</td>\n",
       "      <td>RL</td>\n",
       "      <td>68.0</td>\n",
       "      <td>11250</td>\n",
       "      <td>Pave</td>\n",
       "      <td>NaN</td>\n",
       "      <td>IR1</td>\n",
       "      <td>Lvl</td>\n",
       "      <td>AllPub</td>\n",
       "      <td>Inside</td>\n",
       "      <td>...</td>\n",
       "      <td>0</td>\n",
       "      <td>NaN</td>\n",
       "      <td>NaN</td>\n",
       "      <td>NaN</td>\n",
       "      <td>0</td>\n",
       "      <td>9</td>\n",
       "      <td>2008</td>\n",
       "      <td>WD</td>\n",
       "      <td>Normal</td>\n",
       "      <td>223500</td>\n",
       "    </tr>\n",
       "    <tr>\n",
       "      <th>4</th>\n",
       "      <td>70</td>\n",
       "      <td>RL</td>\n",
       "      <td>60.0</td>\n",
       "      <td>9550</td>\n",
       "      <td>Pave</td>\n",
       "      <td>NaN</td>\n",
       "      <td>IR1</td>\n",
       "      <td>Lvl</td>\n",
       "      <td>AllPub</td>\n",
       "      <td>Corner</td>\n",
       "      <td>...</td>\n",
       "      <td>0</td>\n",
       "      <td>NaN</td>\n",
       "      <td>NaN</td>\n",
       "      <td>NaN</td>\n",
       "      <td>0</td>\n",
       "      <td>2</td>\n",
       "      <td>2006</td>\n",
       "      <td>WD</td>\n",
       "      <td>Abnorml</td>\n",
       "      <td>140000</td>\n",
       "    </tr>\n",
       "    <tr>\n",
       "      <th>5</th>\n",
       "      <td>60</td>\n",
       "      <td>RL</td>\n",
       "      <td>84.0</td>\n",
       "      <td>14260</td>\n",
       "      <td>Pave</td>\n",
       "      <td>NaN</td>\n",
       "      <td>IR1</td>\n",
       "      <td>Lvl</td>\n",
       "      <td>AllPub</td>\n",
       "      <td>FR2</td>\n",
       "      <td>...</td>\n",
       "      <td>0</td>\n",
       "      <td>NaN</td>\n",
       "      <td>NaN</td>\n",
       "      <td>NaN</td>\n",
       "      <td>0</td>\n",
       "      <td>12</td>\n",
       "      <td>2008</td>\n",
       "      <td>WD</td>\n",
       "      <td>Normal</td>\n",
       "      <td>250000</td>\n",
       "    </tr>\n",
       "  </tbody>\n",
       "</table>\n",
       "<p>5 rows × 80 columns</p>\n",
       "</div>"
      ],
      "text/plain": [
       "    MSSubClass MSZoning  \\\n",
       "Id                        \n",
       "1           60       RL   \n",
       "2           20       RL   \n",
       "3           60       RL   \n",
       "4           70       RL   \n",
       "5           60       RL   \n",
       "\n",
       "    LotFrontage  LotArea  \\\n",
       "Id                         \n",
       "1          65.0     8450   \n",
       "2          80.0     9600   \n",
       "3          68.0    11250   \n",
       "4          60.0     9550   \n",
       "5          84.0    14260   \n",
       "\n",
       "   Street Alley LotShape  \\\n",
       "Id                         \n",
       "1    Pave   NaN      Reg   \n",
       "2    Pave   NaN      Reg   \n",
       "3    Pave   NaN      IR1   \n",
       "4    Pave   NaN      IR1   \n",
       "5    Pave   NaN      IR1   \n",
       "\n",
       "   LandContour Utilities  \\\n",
       "Id                         \n",
       "1          Lvl    AllPub   \n",
       "2          Lvl    AllPub   \n",
       "3          Lvl    AllPub   \n",
       "4          Lvl    AllPub   \n",
       "5          Lvl    AllPub   \n",
       "\n",
       "   LotConfig  ... PoolArea  \\\n",
       "Id            ...            \n",
       "1     Inside  ...        0   \n",
       "2        FR2  ...        0   \n",
       "3     Inside  ...        0   \n",
       "4     Corner  ...        0   \n",
       "5        FR2  ...        0   \n",
       "\n",
       "   PoolQC Fence MiscFeature  \\\n",
       "Id                            \n",
       "1     NaN   NaN         NaN   \n",
       "2     NaN   NaN         NaN   \n",
       "3     NaN   NaN         NaN   \n",
       "4     NaN   NaN         NaN   \n",
       "5     NaN   NaN         NaN   \n",
       "\n",
       "   MiscVal MoSold  YrSold  \\\n",
       "Id                          \n",
       "1        0      2    2008   \n",
       "2        0      5    2007   \n",
       "3        0      9    2008   \n",
       "4        0      2    2006   \n",
       "5        0     12    2008   \n",
       "\n",
       "    SaleType  SaleCondition  \\\n",
       "Id                            \n",
       "1         WD         Normal   \n",
       "2         WD         Normal   \n",
       "3         WD         Normal   \n",
       "4         WD        Abnorml   \n",
       "5         WD         Normal   \n",
       "\n",
       "    SalePrice  \n",
       "Id             \n",
       "1      208500  \n",
       "2      181500  \n",
       "3      223500  \n",
       "4      140000  \n",
       "5      250000  \n",
       "\n",
       "[5 rows x 80 columns]"
      ]
     },
     "metadata": {},
     "output_type": "display_data"
    }
   ],
   "source": [
    "display(data.head())"
   ]
  },
  {
   "cell_type": "code",
   "execution_count": null,
   "metadata": {},
   "outputs": [],
   "source": []
  }
 ],
 "metadata": {
  "kernelspec": {
   "display_name": "Python 3",
   "language": "python",
   "name": "python3"
  },
  "language_info": {
   "codemirror_mode": {
    "name": "ipython",
    "version": 3
   },
   "file_extension": ".py",
   "mimetype": "text/x-python",
   "name": "python",
   "nbconvert_exporter": "python",
   "pygments_lexer": "ipython3",
   "version": "3.8.2"
  }
 },
 "nbformat": 4,
 "nbformat_minor": 2
}
